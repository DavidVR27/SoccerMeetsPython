{
 "cells": [
  {
   "cell_type": "code",
   "id": "initial_id",
   "metadata": {
    "collapsed": true,
    "ExecuteTime": {
     "end_time": "2025-08-28T02:12:33.923023Z",
     "start_time": "2025-08-28T02:12:33.891425Z"
    }
   },
   "source": [
    "import requests\n",
    "from bs4 import BeautifulSoup\n",
    "\n",
    "import pandas as pd"
   ],
   "outputs": [],
   "execution_count": 2
  },
  {
   "metadata": {
    "ExecuteTime": {
     "end_time": "2025-08-28T02:29:03.087519Z",
     "start_time": "2025-08-28T02:29:02.107294Z"
    }
   },
   "cell_type": "code",
   "source": [
    "# Definimos que somos un sitio web, no una herramienta. Sino nos bloquean xd\n",
    "headers = {\n",
    "    'User-Agent': 'Mozilla/5.0 (Windows NT 10.0; Win64; x64) AppleWebKit/537.36 (KHTML, like Gecko) Chrome/120.0.0.0 Safari/537.36'\n",
    "}\n",
    "\n",
    "page = \"https://www.transfermarkt.co.uk/transfers/transferrekorde/statistik/top/plus/0/galerie/0?saison_id=2000\"\n",
    "# Uso de la libreria *requests* para obtener el codigo de la pagina y asignarla a PageTree. Usamos headers para informar a Transfermarkt que somos un navegador humano\n",
    "pageTree = requests.get(page, headers=headers)\n",
    "# Convertir el codigo a html\n",
    "pageSoup = BeautifulSoup(pageTree.content, 'html.parser')"
   ],
   "id": "ffc8a14f2a3b51f5",
   "outputs": [],
   "execution_count": 8
  },
  {
   "metadata": {
    "ExecuteTime": {
     "end_time": "2025-08-28T02:47:31.253828Z",
     "start_time": "2025-08-28T02:47:31.213338Z"
    }
   },
   "cell_type": "code",
   "source": [
    "# Extraemos del codigo HTML de la pagina los datos que esten en etiquetas <a> dentro de una etiqueta <td class=\"hauptlink\">\n",
    "players = pageSoup.select(\"td.hauptlink a[href*='/profil/spieler/']\")\n",
    "\n",
    "players[0].text"
   ],
   "id": "dd73daf7ce7d65dc",
   "outputs": [
    {
     "data": {
      "text/plain": [
       "'Luís Figo'"
      ]
     },
     "execution_count": 36,
     "metadata": {},
     "output_type": "execute_result"
    }
   ],
   "execution_count": 36
  },
  {
   "metadata": {
    "ExecuteTime": {
     "end_time": "2025-08-28T02:47:34.833102Z",
     "start_time": "2025-08-28T02:47:34.812377Z"
    }
   },
   "cell_type": "code",
   "source": [
    "# Obtenemos el valor de la transferencia\n",
    "Values = pageSoup.find_all(\"td\", {\"class\": \"rechts hauptlink\"})\n",
    "\n",
    "Values[0].text"
   ],
   "id": "3192ba7e88aa5892",
   "outputs": [
    {
     "data": {
      "text/plain": [
       "'€60.00m'"
      ]
     },
     "execution_count": 37,
     "metadata": {},
     "output_type": "execute_result"
    }
   ],
   "execution_count": 37
  },
  {
   "metadata": {
    "ExecuteTime": {
     "end_time": "2025-08-28T02:52:00.340262Z",
     "start_time": "2025-08-28T02:52:00.299196Z"
    }
   },
   "cell_type": "code",
   "source": [
    "# Organizamos los datos en un dataframe\n",
    "PlayerList = []\n",
    "ValuesList = []\n",
    "\n",
    "for i in range(0,25):\n",
    "    PlayerList.append(players[i].text)\n",
    "    ValuesList.append(Values[i].text)\n",
    "\n",
    "df = pd.DataFrame({\"Players\": PlayerList, \"Values\": ValuesList})\n",
    "\n",
    "df.head()"
   ],
   "id": "282ed7b0fae4d72a",
   "outputs": [
    {
     "name": "stdout",
     "output_type": "stream",
     "text": [
      "25\n"
     ]
    },
    {
     "data": {
      "text/plain": [
       "             Players   Values\n",
       "0          Luís Figo  €60.00m\n",
       "1      Hernán Crespo  €56.81m\n",
       "2  Gabriel Batistuta  €36.15m\n",
       "3     Nicolas Anelka  €34.50m\n",
       "4      Marc Overmars  €29.30m"
      ],
      "text/html": [
       "<div>\n",
       "<style scoped>\n",
       "    .dataframe tbody tr th:only-of-type {\n",
       "        vertical-align: middle;\n",
       "    }\n",
       "\n",
       "    .dataframe tbody tr th {\n",
       "        vertical-align: top;\n",
       "    }\n",
       "\n",
       "    .dataframe thead th {\n",
       "        text-align: right;\n",
       "    }\n",
       "</style>\n",
       "<table border=\"1\" class=\"dataframe\">\n",
       "  <thead>\n",
       "    <tr style=\"text-align: right;\">\n",
       "      <th></th>\n",
       "      <th>Players</th>\n",
       "      <th>Values</th>\n",
       "    </tr>\n",
       "  </thead>\n",
       "  <tbody>\n",
       "    <tr>\n",
       "      <th>0</th>\n",
       "      <td>Luís Figo</td>\n",
       "      <td>€60.00m</td>\n",
       "    </tr>\n",
       "    <tr>\n",
       "      <th>1</th>\n",
       "      <td>Hernán Crespo</td>\n",
       "      <td>€56.81m</td>\n",
       "    </tr>\n",
       "    <tr>\n",
       "      <th>2</th>\n",
       "      <td>Gabriel Batistuta</td>\n",
       "      <td>€36.15m</td>\n",
       "    </tr>\n",
       "    <tr>\n",
       "      <th>3</th>\n",
       "      <td>Nicolas Anelka</td>\n",
       "      <td>€34.50m</td>\n",
       "    </tr>\n",
       "    <tr>\n",
       "      <th>4</th>\n",
       "      <td>Marc Overmars</td>\n",
       "      <td>€29.30m</td>\n",
       "    </tr>\n",
       "  </tbody>\n",
       "</table>\n",
       "</div>"
      ]
     },
     "execution_count": 39,
     "metadata": {},
     "output_type": "execute_result"
    }
   ],
   "execution_count": 39
  },
  {
   "metadata": {
    "ExecuteTime": {
     "end_time": "2025-08-28T02:58:10.951431Z",
     "start_time": "2025-08-28T02:58:10.930778Z"
    }
   },
   "cell_type": "code",
   "source": [
    "# Guardando el dataframe como csv\n",
    "df.columns=['Players', 'Values']\n",
    "df.to_csv('transferRecord.csv', index=False, encoding='utf-8')"
   ],
   "id": "a5a1eb357c44b83b",
   "outputs": [],
   "execution_count": 42
  }
 ],
 "metadata": {
  "kernelspec": {
   "display_name": "Python 3",
   "language": "python",
   "name": "python3"
  },
  "language_info": {
   "codemirror_mode": {
    "name": "ipython",
    "version": 2
   },
   "file_extension": ".py",
   "mimetype": "text/x-python",
   "name": "python",
   "nbconvert_exporter": "python",
   "pygments_lexer": "ipython2",
   "version": "2.7.6"
  }
 },
 "nbformat": 4,
 "nbformat_minor": 5
}
