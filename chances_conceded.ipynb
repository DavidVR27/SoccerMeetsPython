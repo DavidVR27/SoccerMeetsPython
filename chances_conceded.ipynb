{
 "cells": [
  {
   "metadata": {},
   "cell_type": "markdown",
   "source": [
    "# Chances Conceded: Is it really that bad?\n",
    "\n",
    "Why the \"Big Chances Conceded\" stat without context is\n",
    "\n",
    "Using the example of Barcelona: \"12 big chances conceded in 3 games\" sounds terrible... until you analize the data that they won't show you."
   ],
   "id": "e98eed295936f556"
  },
  {
   "metadata": {
    "collapsed": true
   },
   "cell_type": "code",
   "outputs": [],
   "execution_count": null,
   "source": "",
   "id": "32dcb4fef90045e"
  }
 ],
 "metadata": {
  "kernelspec": {
   "display_name": "Python 3",
   "language": "python",
   "name": "python3"
  },
  "language_info": {
   "codemirror_mode": {
    "name": "ipython",
    "version": 2
   },
   "file_extension": ".py",
   "mimetype": "text/x-python",
   "name": "python",
   "nbconvert_exporter": "python",
   "pygments_lexer": "ipython2",
   "version": "2.7.6"
  }
 },
 "nbformat": 4,
 "nbformat_minor": 5
}
